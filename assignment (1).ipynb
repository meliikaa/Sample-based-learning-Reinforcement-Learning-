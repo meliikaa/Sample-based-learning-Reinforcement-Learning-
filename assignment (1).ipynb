{
 "cells": [
  {
   "cell_type": "markdown",
   "metadata": {
    "deletable": false,
    "editable": false,
    "nbgrader": {
     "cell_type": "markdown",
     "checksum": "9fe4bed7f12954da5406e29bacc33d29",
     "grade": false,
     "grade_id": "cell-8752ebba5eba6908",
     "locked": true,
     "schema_version": 3,
     "solution": false,
     "task": false
    }
   },
   "source": [
    "# Assignment 2 - Q-Learning and Expected Sarsa"
   ]
  },
  {
   "cell_type": "markdown",
   "metadata": {
    "deletable": false,
    "editable": false,
    "nbgrader": {
     "cell_type": "markdown",
     "checksum": "44ab0e3250336e81de4c25d68b362f43",
     "grade": false,
     "grade_id": "cell-bb34b78cde933a3c",
     "locked": true,
     "schema_version": 3,
     "solution": false,
     "task": false
    }
   },
   "source": [
    "Welcome to Course 2 Programming Assignment 2. In this notebook, you will:\n",
    "\n",
    "1. Implement Q-Learning with $\\epsilon$-greedy action selection\n",
    "2. Implement Expected Sarsa with $\\epsilon$-greedy action selection\n",
    "3. Investigate how these two algorithms behave on Cliff World (described on page 132 of the textbook)\n",
    "\n",
    "We will provide you with the environment and infrastructure to run an experiment (called the experiment program in RL-Glue). This notebook will provide all the code you need to run your experiment and visualise learning performance.\n",
    "\n",
    "This assignment will be graded automatically by comparing the behavior of your agent to our implementations of Expected Sarsa and Q-learning. The random seed will be set to avoid different behavior due to randomness. We will highlight the functions you have to use for generating random samples and the number of times these functions should be called. "
   ]
  },
  {
   "cell_type": "markdown",
   "metadata": {
    "deletable": false,
    "editable": false,
    "nbgrader": {
     "cell_type": "markdown",
     "checksum": "e063f27b04bf21b958a2fbcfa241b84a",
     "grade": false,
     "grade_id": "cell-cd3e79a41b3f0d4f",
     "locked": true,
     "schema_version": 3,
     "solution": false,
     "task": false
    }
   },
   "source": [
    "## Packages"
   ]
  },
  {
   "cell_type": "markdown",
   "metadata": {
    "deletable": false,
    "editable": false,
    "nbgrader": {
     "cell_type": "markdown",
     "checksum": "0f9f1f7e4216df0af0205ccbf342ec10",
     "grade": false,
     "grade_id": "cell-6a24414523d48a08",
     "locked": true,
     "schema_version": 3,
     "solution": false,
     "task": false
    }
   },
   "source": [
    "You will need the following libraries for this assignment. We are using:\n",
    "1. numpy: the fundamental package for scientific computing with Python.\n",
    "2. scipy: a Python library for scientific and technical computing.\n",
    "3. matplotlib: library for plotting graphs in Python.\n",
    "4. RL-Glue: library for reinforcement learning experiments.\n",
    "\n",
    "DO NOT IMPORT OTHER LIBRARIES - This will break the autograder."
   ]
  },
  {
   "cell_type": "code",
   "execution_count": 1,
   "metadata": {
    "deletable": false,
    "editable": false,
    "nbgrader": {
     "cell_type": "code",
     "checksum": "a2ce19695c4ca93e0cdc6bb23fd07486",
     "grade": false,
     "grade_id": "cell-88a8c00170d9648d",
     "locked": true,
     "schema_version": 3,
     "solution": false,
     "task": false
    }
   },
   "outputs": [],
   "source": [
    "%matplotlib inline\n",
    "import numpy as np\n",
    "import matplotlib.pyplot as plt\n",
    "from tqdm import tqdm\n",
    "from scipy.stats import sem\n",
    "\n",
    "from rl_glue import RLGlue\n",
    "from agent import BaseAgent\n",
    "import cliffworld_env"
   ]
  },
  {
   "cell_type": "code",
   "execution_count": 2,
   "metadata": {
    "deletable": false,
    "editable": false,
    "nbgrader": {
     "cell_type": "code",
     "checksum": "8f97fc33c742328ff58b1032dc9619ef",
     "grade": false,
     "grade_id": "cell-daf33c237c54cae3",
     "locked": true,
     "schema_version": 3,
     "solution": false,
     "task": false
    }
   },
   "outputs": [],
   "source": [
    "plt.rcParams.update({'font.size': 15})\n",
    "plt.rcParams.update({'figure.figsize': [10,5]})"
   ]
  },
  {
   "cell_type": "markdown",
   "metadata": {
    "deletable": false,
    "editable": false,
    "nbgrader": {
     "cell_type": "markdown",
     "checksum": "ae04ccbdacc68b749425b9cac219bcc3",
     "grade": false,
     "grade_id": "cell-31f453dda88f470a",
     "locked": true,
     "schema_version": 3,
     "solution": false,
     "task": false
    }
   },
   "source": [
    "## Q-Learning"
   ]
  },
  {
   "cell_type": "markdown",
   "metadata": {
    "deletable": false,
    "editable": false,
    "nbgrader": {
     "cell_type": "markdown",
     "checksum": "2b955a542f81415057710d9b20f175b7",
     "grade": false,
     "grade_id": "cell-fc2c54f2e31536b6",
     "locked": true,
     "schema_version": 3,
     "solution": false,
     "task": false
    }
   },
   "source": [
    "In this section you will implement and test a Q-Learning agent with $\\epsilon$-greedy action selection (Section 6.5 in the textbook). "
   ]
  },
  {
   "cell_type": "markdown",
   "metadata": {
    "deletable": false,
    "editable": false,
    "nbgrader": {
     "cell_type": "markdown",
     "checksum": "b519ad4633614d0d03b3893edd33a691",
     "grade": false,
     "grade_id": "cell-c433902268f46b5e",
     "locked": true,
     "schema_version": 3,
     "solution": false,
     "task": false
    }
   },
   "source": [
    "### Implementation"
   ]
  },
  {
   "cell_type": "markdown",
   "metadata": {
    "deletable": false,
    "editable": false,
    "nbgrader": {
     "cell_type": "markdown",
     "checksum": "d20bc56869c8465af81cadd3c1375e9c",
     "grade": false,
     "grade_id": "cell-04230dcf3b567624",
     "locked": true,
     "schema_version": 3,
     "solution": false,
     "task": false
    }
   },
   "source": [
    "Your job is to implement the updates in the methods agent_step and agent_end. We provide detailed comments in each method describing what your code should do."
   ]
  },
  {
   "cell_type": "code",
   "execution_count": 9,
   "metadata": {
    "deletable": false,
    "nbgrader": {
     "cell_type": "code",
     "checksum": "c315b49c7a6c4295794c2df75d93d656",
     "grade": false,
     "grade_id": "cell-8db23776199c2dbc",
     "locked": false,
     "schema_version": 3,
     "solution": true,
     "task": false
    }
   },
   "outputs": [],
   "source": [
    "# -----------\n",
    "# Graded Cell\n",
    "# -----------\n",
    "\n",
    "class QLearningAgent(BaseAgent):\n",
    "    def agent_init(self, agent_init_info):\n",
    "        \"\"\"Setup for the agent called when the experiment first starts.\n",
    "        \n",
    "        Args:\n",
    "        agent_init_info (dict), the parameters used to initialize the agent. The dictionary contains:\n",
    "        {\n",
    "            num_states (int): The number of states,\n",
    "            num_actions (int): The number of actions,\n",
    "            epsilon (float): The epsilon parameter for exploration,\n",
    "            step_size (float): The step-size,\n",
    "            discount (float): The discount factor,\n",
    "        }\n",
    "        \n",
    "        \"\"\"\n",
    "        # Store the parameters provided in agent_init_info.\n",
    "        self.num_actions = agent_init_info[\"num_actions\"]\n",
    "        self.num_states = agent_init_info[\"num_states\"]\n",
    "        self.epsilon = agent_init_info[\"epsilon\"]\n",
    "        self.step_size = agent_init_info[\"step_size\"]\n",
    "        self.discount = agent_init_info[\"discount\"]\n",
    "        self.rand_generator = np.random.RandomState(agent_info[\"seed\"])\n",
    "        \n",
    "        # Create an array for action-value estimates and initialize it to zero.\n",
    "        self.q = np.zeros((self.num_states, self.num_actions)) # The array of action-value estimates.\n",
    "\n",
    "        \n",
    "    def agent_start(self, observation):\n",
    "        \"\"\"The first method called when the episode starts, called after\n",
    "        the environment starts.\n",
    "        Args:\n",
    "            observation (int): the state observation from the\n",
    "                environment's evn_start function.\n",
    "        Returns:\n",
    "            action (int): the first action the agent takes.\n",
    "        \"\"\"\n",
    "        \n",
    "        # Choose action using epsilon greedy.\n",
    "        state = observation\n",
    "        current_q = self.q[state,:]\n",
    "        if self.rand_generator.rand() < self.epsilon:\n",
    "            action = self.rand_generator.randint(self.num_actions)\n",
    "        else:\n",
    "            action = self.argmax(current_q)\n",
    "        self.prev_state = state\n",
    "        self.prev_action = action\n",
    "        return action\n",
    "    \n",
    "    def agent_step(self, reward, observation):\n",
    "        \"\"\"A step taken by the agent.\n",
    "        Args:\n",
    "            reward (float): the reward received for taking the last action taken\n",
    "            observation (int): the state observation from the\n",
    "                environment's step based on where the agent ended up after the\n",
    "                last step.\n",
    "        Returns:\n",
    "            action (int): the action the agent is taking.\n",
    "        \"\"\"\n",
    "        \n",
    "        # Choose action using epsilon greedy.\n",
    "        state = observation\n",
    "        current_q = self.q[state, :]\n",
    "        if self.rand_generator.rand() < self.epsilon:\n",
    "            action = self.rand_generator.randint(self.num_actions)\n",
    "        else:\n",
    "            action = self.argmax(current_q)\n",
    "        \n",
    "        # Perform an update\n",
    "        # --------------------------\n",
    "        # your code here\n",
    "        self.q[self.prev_state, self.prev_action] += self.step_size * (reward + self.discount * np.max(current_q) - self.q[self.prev_state, self.prev_action])\n",
    "        # --------------------------\n",
    "        \n",
    "        self.prev_state = state\n",
    "        self.prev_action = action\n",
    "        return action\n",
    "    \n",
    "    def agent_end(self, reward):\n",
    "        \"\"\"Run when the agent terminates.\n",
    "        Args:\n",
    "            reward (float): the reward the agent received for entering the\n",
    "                terminal state.\n",
    "        \"\"\"\n",
    "        # Perform the last update in the episode\n",
    "        # --------------------------\n",
    "        # your code here\n",
    "        self.q[self.prev_state, self.prev_action] += self.step_size * (reward - self.q[self.prev_state, self.prev_action])\n",
    "        # --------------------------\n",
    "        \n",
    "    def argmax(self, q_values):\n",
    "        \"\"\"argmax with random tie-breaking\n",
    "        Args:\n",
    "            q_values (Numpy array): the array of action-values\n",
    "        Returns:\n",
    "            action (int): an action with the highest value\n",
    "        \"\"\"\n",
    "        top = float(\"-inf\")\n",
    "        ties = []\n",
    "\n",
    "        for i in range(len(q_values)):\n",
    "            if q_values[i] > top:\n",
    "                top = q_values[i]\n",
    "                ties = []\n",
    "\n",
    "            if q_values[i] == top:\n",
    "                ties.append(i)\n",
    "\n",
    "        return self.rand_generator.choice(ties)"
   ]
  },
  {
   "cell_type": "markdown",
   "metadata": {
    "deletable": false,
    "editable": false,
    "nbgrader": {
     "cell_type": "markdown",
     "checksum": "5454af006dc1e92ca8ec3ca4cea1408a",
     "grade": false,
     "grade_id": "cell-ea32cc666a3e5aba",
     "locked": true,
     "schema_version": 3,
     "solution": false,
     "task": false
    }
   },
   "source": [
    "### Test"
   ]
  },
  {
   "cell_type": "markdown",
   "metadata": {
    "deletable": false,
    "editable": false,
    "nbgrader": {
     "cell_type": "markdown",
     "checksum": "9eeefe932a46adf71c4fc2696bd2323f",
     "grade": false,
     "grade_id": "cell-7b8d86d7ad124dda",
     "locked": true,
     "schema_version": 3,
     "solution": false,
     "task": false
    }
   },
   "source": [
    "Run the cells below to test the implemented methods. The output of each cell should match the expected output.\n",
    "\n",
    "Note that passing this test does not guarantee correct behavior on the Cliff World."
   ]
  },
  {
   "cell_type": "code",
   "execution_count": 10,
   "metadata": {
    "deletable": false,
    "editable": false,
    "nbgrader": {
     "cell_type": "code",
     "checksum": "d85a79701d766e72d852512c3f579914",
     "grade": true,
     "grade_id": "cell-11f37433c8ca54c8",
     "locked": true,
     "points": 20,
     "schema_version": 3,
     "solution": false,
     "task": false
    }
   },
   "outputs": [],
   "source": [
    "# -----------\n",
    "# Tested Cell\n",
    "# -----------\n",
    "# The contents of the cell will be tested by the autograder.\n",
    "# If they do not pass here, they will not pass there.\n",
    "\n",
    "np.random.seed(0)\n",
    "\n",
    "agent_info = {\"num_actions\": 4, \"num_states\": 3, \"epsilon\": 0.1, \"step_size\": 0.1, \"discount\": 1.0, \"seed\": 0}\n",
    "agent = QLearningAgent()\n",
    "agent.agent_init(agent_info)\n",
    "action = agent.agent_start(0)\n",
    "\n",
    "expected_values = np.array([\n",
    "    [0, 0, 0, 0],\n",
    "    [0, 0, 0, 0],\n",
    "    [0, 0, 0, 0],\n",
    "])\n",
    "\n",
    "assert np.all(agent.q == expected_values)\n",
    "assert action == 1\n",
    "\n",
    "# reset the agent\n",
    "agent.agent_init(agent_info)\n",
    "\n",
    "action = agent.agent_start(0)\n",
    "assert action == 1\n",
    "\n",
    "action = agent.agent_step(2, 1)\n",
    "assert action == 3\n",
    "\n",
    "action = agent.agent_step(0, 0)\n",
    "assert action == 1\n",
    "\n",
    "expected_values = np.array([\n",
    "    [0.,  0.2,  0.,  0.  ],\n",
    "    [0.,  0.,   0.,  0.02],\n",
    "    [0.,  0.,   0.,  0.  ],\n",
    "])\n",
    "assert np.all(np.isclose(agent.q, expected_values))\n",
    "\n",
    "# reset the agent\n",
    "agent.agent_init(agent_info)\n",
    "\n",
    "action = agent.agent_start(0)\n",
    "assert action == 1\n",
    "\n",
    "action = agent.agent_step(2, 1)\n",
    "assert action == 3\n",
    "\n",
    "agent.agent_end(1)\n",
    "\n",
    "expected_values = np.array([\n",
    "    [0.,  0.2, 0.,  0. ],\n",
    "    [0.,  0.,  0.,  0.1],\n",
    "    [0.,  0.,  0.,  0. ],\n",
    "])\n",
    "assert np.all(np.isclose(agent.q, expected_values))\n",
    "\n",
    "# Run a few more tests to ensure the epsilon-random action is not picked in the update\n",
    "expected_values = np.array([\n",
    "    [0.,         0.2,        0.,         0.        ],\n",
    "    [5.97824336, 5.75000715, 5.79372928, 6.69483878],\n",
    "    [0.,         0.,         0.,         0.        ],\n",
    "])\n",
    "agent.epsilon = 1.0  # Set epsilon high so that there is a larger chance to catch the errors\n",
    "for _ in range(100):\n",
    "    agent.agent_step(2, 1)\n",
    "assert np.all(np.isclose(agent.q, expected_values))"
   ]
  },
  {
   "cell_type": "markdown",
   "metadata": {
    "deletable": false,
    "editable": false,
    "nbgrader": {
     "cell_type": "markdown",
     "checksum": "e9ab41c00758baeb958ad2d9406d7bfd",
     "grade": false,
     "grade_id": "cell-c9fb7428a7449328",
     "locked": true,
     "schema_version": 3,
     "solution": false,
     "task": false
    }
   },
   "source": [
    "# Expected Sarsa"
   ]
  },
  {
   "cell_type": "markdown",
   "metadata": {
    "deletable": false,
    "editable": false,
    "nbgrader": {
     "cell_type": "markdown",
     "checksum": "b9ab26a1d817eac6e28bd15b8b751a9b",
     "grade": false,
     "grade_id": "cell-23da7014f21e2ad2",
     "locked": true,
     "schema_version": 3,
     "solution": false,
     "task": false
    }
   },
   "source": [
    "In this section you will implement an Expected Sarsa agent with $\\epsilon$-greedy action selection (Section 6.6 in the textbook). "
   ]
  },
  {
   "cell_type": "markdown",
   "metadata": {
    "deletable": false,
    "editable": false,
    "nbgrader": {
     "cell_type": "markdown",
     "checksum": "dde30cfc0c51845121870ee27ed074aa",
     "grade": false,
     "grade_id": "cell-f5bba9d84d65a057",
     "locked": true,
     "schema_version": 3,
     "solution": false,
     "task": false
    }
   },
   "source": [
    "### Implementation"
   ]
  },
  {
   "cell_type": "markdown",
   "metadata": {
    "deletable": false,
    "editable": false,
    "nbgrader": {
     "cell_type": "markdown",
     "checksum": "43763943d41c69ec445ccf02ff9dca18",
     "grade": false,
     "grade_id": "cell-0666f65e850ce812",
     "locked": true,
     "schema_version": 3,
     "solution": false,
     "task": false
    }
   },
   "source": [
    "Your job is to implement the updates in the methods agent_step and agent_end. We provide detailed comments in each method describing what your code should do."
   ]
  },
  {
   "cell_type": "code",
   "execution_count": 14,
   "metadata": {
    "deletable": false,
    "nbgrader": {
     "cell_type": "code",
     "checksum": "ee482f620e4d5f62099cf873e42c21eb",
     "grade": false,
     "grade_id": "cell-5d6d92b752b28869",
     "locked": false,
     "schema_version": 3,
     "solution": true,
     "task": false
    }
   },
   "outputs": [],
   "source": [
    "# -----------\n",
    "# Graded Cell\n",
    "# -----------\n",
    "\n",
    "class ExpectedSarsaAgent(BaseAgent):\n",
    "    def agent_init(self, agent_init_info):\n",
    "        \"\"\"Setup for the agent called when the experiment first starts.\n",
    "        \n",
    "        Args:\n",
    "        agent_init_info (dict), the parameters used to initialize the agent. The dictionary contains:\n",
    "        {\n",
    "            num_states (int): The number of states,\n",
    "            num_actions (int): The number of actions,\n",
    "            epsilon (float): The epsilon parameter for exploration,\n",
    "            step_size (float): The step-size,\n",
    "            discount (float): The discount factor,\n",
    "        }\n",
    "        \n",
    "        \"\"\"\n",
    "        # Store the parameters provided in agent_init_info.\n",
    "        self.num_actions = agent_init_info[\"num_actions\"]\n",
    "        self.num_states = agent_init_info[\"num_states\"]\n",
    "        self.epsilon = agent_init_info[\"epsilon\"]\n",
    "        self.step_size = agent_init_info[\"step_size\"]\n",
    "        self.discount = agent_init_info[\"discount\"]\n",
    "        self.rand_generator = np.random.RandomState(agent_info[\"seed\"])\n",
    "        \n",
    "        # Create an array for action-value estimates and initialize it to zero.\n",
    "        self.q = np.zeros((self.num_states, self.num_actions)) # The array of action-value estimates.\n",
    "\n",
    "        \n",
    "    def agent_start(self, observation):\n",
    "        \"\"\"The first method called when the episode starts, called after\n",
    "        the environment starts.\n",
    "        Args:\n",
    "            observation (int): the state observation from the\n",
    "                environment's evn_start function.\n",
    "        Returns:\n",
    "            action (int): the first action the agent takes.\n",
    "        \"\"\"\n",
    "        \n",
    "        # Choose action using epsilon greedy.\n",
    "        state = observation\n",
    "        current_q = self.q[state, :]\n",
    "        if self.rand_generator.rand() < self.epsilon:\n",
    "            action = self.rand_generator.randint(self.num_actions)\n",
    "        else:\n",
    "            action = self.argmax(current_q)\n",
    "        self.prev_state = state\n",
    "        self.prev_action = action\n",
    "        return action\n",
    "    \n",
    "    def agent_step(self, reward, observation):\n",
    "        \"\"\"A step taken by the agent.\n",
    "        Args:\n",
    "            reward (float): the reward received for taking the last action taken\n",
    "            observation (int): the state observation from the\n",
    "                environment's step based on where the agent ended up after the\n",
    "                last step.\n",
    "        Returns:\n",
    "            action (int): the action the agent is taking.\n",
    "        \"\"\"\n",
    "        \n",
    "        # Choose action using epsilon greedy.\n",
    "        state = observation\n",
    "        current_q = self.q[state,:]\n",
    "        if self.rand_generator.rand() < self.epsilon:\n",
    "            action = self.rand_generator.randint(self.num_actions)\n",
    "        else:\n",
    "            action = self.argmax(current_q)\n",
    "        \n",
    "        # Perform an update\n",
    "        # --------------------------\n",
    "        # your code here\n",
    "        q_max = np.max(current_q)\n",
    "        pi = np.ones(self.num_actions) * (self.epsilon / self.num_actions)\n",
    "        pi += (current_q == q_max) * ((1 - self.epsilon) / np.sum(current_q == q_max))\n",
    "        expectation = np.sum(current_q * pi)\n",
    "        self.q[self.prev_state, self.prev_action] += self.step_size * (reward + self.discount * expectation)\n",
    "        # --------------------------\n",
    "        \n",
    "        self.prev_state = state\n",
    "        self.prev_action = action\n",
    "        return action\n",
    "    \n",
    "    def agent_end(self, reward):\n",
    "        \"\"\"Run when the agent terminates.\n",
    "        Args:\n",
    "            reward (float): the reward the agent received for entering the\n",
    "                terminal state.\n",
    "        \"\"\"\n",
    "        # Perform the last update in the episode\n",
    "        # --------------------------\n",
    "        # your code here\n",
    "        self.q[self.prev_state, self.prev_action] += self.step_size * (reward - self.q[self.prev_state, self.prev_action])\n",
    "        # --------------------------\n",
    "        \n",
    "    def argmax(self, q_values):\n",
    "        \"\"\"argmax with random tie-breaking\n",
    "        Args:\n",
    "            q_values (Numpy array): the array of action-values\n",
    "        Returns:\n",
    "            action (int): an action with the highest value\n",
    "        \"\"\"\n",
    "        top = float(\"-inf\")\n",
    "        ties = []\n",
    "\n",
    "        for i in range(len(q_values)):\n",
    "            if q_values[i] > top:\n",
    "                top = q_values[i]\n",
    "                ties = []\n",
    "\n",
    "            if q_values[i] == top:\n",
    "                ties.append(i)\n",
    "\n",
    "        return self.rand_generator.choice(ties)"
   ]
  },
  {
   "cell_type": "markdown",
   "metadata": {
    "deletable": false,
    "editable": false,
    "nbgrader": {
     "cell_type": "markdown",
     "checksum": "ad78021a9987f5178e4763d8d46e9e05",
     "grade": false,
     "grade_id": "cell-7848b6671f26a9ca",
     "locked": true,
     "schema_version": 3,
     "solution": false,
     "task": false
    }
   },
   "source": [
    "### Test"
   ]
  },
  {
   "cell_type": "markdown",
   "metadata": {
    "deletable": false,
    "editable": false,
    "nbgrader": {
     "cell_type": "markdown",
     "checksum": "4038809b43ca9db4ab0386df40e6399d",
     "grade": false,
     "grade_id": "cell-d937926a11a7d025",
     "locked": true,
     "schema_version": 3,
     "solution": false,
     "task": false
    }
   },
   "source": [
    "Run the cells below to test the implemented methods. The output of each cell should match the expected output.\n",
    "\n",
    "Note that passing this test does not guarantee correct behavior on the Cliff World."
   ]
  },
  {
   "cell_type": "code",
   "execution_count": 15,
   "metadata": {
    "deletable": false,
    "editable": false,
    "nbgrader": {
     "cell_type": "code",
     "checksum": "f8d82d7062874dfe82f73a063cd37a19",
     "grade": true,
     "grade_id": "cell-f7d7c26712ff16cb",
     "locked": true,
     "points": 30,
     "schema_version": 3,
     "solution": false,
     "task": false
    }
   },
   "outputs": [],
   "source": [
    "# -----------\n",
    "# Tested Cell\n",
    "# -----------\n",
    "# The contents of the cell will be tested by the autograder.\n",
    "# If they do not pass here, they will not pass there.\n",
    "\n",
    "agent_info = {\"num_actions\": 4, \"num_states\": 3, \"epsilon\": 0.1, \"step_size\": 0.1, \"discount\": 1.0, \"seed\": 0}\n",
    "agent = ExpectedSarsaAgent()\n",
    "agent.agent_init(agent_info)\n",
    "\n",
    "action = agent.agent_start(0)\n",
    "assert action == 1\n",
    "\n",
    "expected_values = np.array([\n",
    "    [0, 0, 0, 0],\n",
    "    [0, 0, 0, 0],\n",
    "    [0, 0, 0, 0],\n",
    "])\n",
    "assert np.all(agent.q == expected_values)\n",
    "\n",
    "# ---------------\n",
    "# test agent step\n",
    "# ---------------\n",
    "\n",
    "action = agent.agent_step(2, 1)\n",
    "assert action == 3\n",
    "\n",
    "action = agent.agent_step(0, 0)\n",
    "assert action == 1\n",
    "\n",
    "expected_values = np.array([\n",
    "    [0, 0.2, 0, 0],\n",
    "    [0, 0, 0, 0.0185],\n",
    "    [0, 0, 0, 0],\n",
    "])\n",
    "assert np.all(np.isclose(agent.q, expected_values))\n",
    "\n",
    "# --------------\n",
    "# test agent end\n",
    "# --------------\n",
    "\n",
    "agent.agent_end(1)\n",
    "\n",
    "expected_values = np.array([\n",
    "    [0, 0.28, 0, 0],\n",
    "    [0, 0, 0, 0.0185],\n",
    "    [0, 0, 0, 0],\n",
    "])\n",
    "assert np.all(np.isclose(agent.q, expected_values))"
   ]
  },
  {
   "cell_type": "markdown",
   "metadata": {
    "deletable": false,
    "editable": false,
    "nbgrader": {
     "cell_type": "markdown",
     "checksum": "b55b73e6a8e7ee95224a5b1572aa6ba6",
     "grade": false,
     "grade_id": "cell-c582b1d9992dd87e",
     "locked": true,
     "schema_version": 3,
     "solution": false,
     "task": false
    }
   },
   "source": [
    "# Solving the Cliff World"
   ]
  },
  {
   "cell_type": "markdown",
   "metadata": {
    "deletable": false,
    "editable": false,
    "nbgrader": {
     "cell_type": "markdown",
     "checksum": "a2977555576ac2595357c3178cc87af0",
     "grade": false,
     "grade_id": "cell-42a9f9dc639df8a2",
     "locked": true,
     "schema_version": 3,
     "solution": false,
     "task": false
    }
   },
   "source": [
    "We described the Cliff World environment in the video \"Expected Sarsa in the Cliff World\" in Lesson 3. This is an undiscounted episodic task and thus we set $\\gamma$=1. The agent starts in the bottom left corner of the gridworld below and takes actions that move it in the four directions. Actions that would move the agent off of the cliff incur a reward of -100 and send the agent back to the start state. The reward for all other transitions is -1. An episode terminates when the agent reaches the bottom right corner. "
   ]
  },
  {
   "cell_type": "markdown",
   "metadata": {
    "deletable": false,
    "editable": false,
    "nbgrader": {
     "cell_type": "markdown",
     "checksum": "3c2e2e73d6d159b4c2e4ff445afa4823",
     "grade": false,
     "grade_id": "cell-be0291e4fc4554d0",
     "locked": true,
     "schema_version": 3,
     "solution": false,
     "task": false
    }
   },
   "source": [
    "<img src=\"cliffworld.png\" alt=\"Drawing\" style=\"width: 600px;\"/>\n"
   ]
  },
  {
   "cell_type": "markdown",
   "metadata": {
    "deletable": false,
    "editable": false,
    "nbgrader": {
     "cell_type": "markdown",
     "checksum": "65c49e8f941c330ccff93828af1c793c",
     "grade": false,
     "grade_id": "cell-d1ad89230d22866e",
     "locked": true,
     "schema_version": 3,
     "solution": false,
     "task": false
    }
   },
   "source": [
    "Using the experiment program in the cell below we now compare the agents on the Cliff World environment and plot the sum of rewards during each episode for the two agents.\n",
    "\n",
    "The result of this cell will be graded. If you make any changes to your algorithms, you have to run this cell again before submitting the assignment."
   ]
  },
  {
   "cell_type": "code",
   "execution_count": 16,
   "metadata": {
    "deletable": false,
    "editable": false,
    "nbgrader": {
     "cell_type": "code",
     "checksum": "1860389f9ea51bb49f21a170dd60311c",
     "grade": false,
     "grade_id": "cell-def1e29f8484e2bb",
     "locked": true,
     "schema_version": 3,
     "solution": false,
     "task": false
    }
   },
   "outputs": [
    {
     "name": "stderr",
     "output_type": "stream",
     "text": [
      "100%|██████████| 100/100 [00:17<00:00,  5.63it/s]\n",
      "100%|██████████| 100/100 [01:03<00:00,  1.59it/s]\n"
     ]
    },
    {
     "data": {
      "image/png": "[encoded data removed]",
      "text/plain": [
       "<Figure size 720x360 with 1 Axes>"
      ]
     },
     "metadata": {
      "needs_background": "light"
     },
     "output_type": "display_data"
    }
   ],
   "source": [
    "# ---------------\n",
    "# Discussion Cell\n",
    "# ---------------\n",
    "np.random.seed(0)\n",
    "\n",
    "agents = {\n",
    "    \"Q-learning\": QLearningAgent,\n",
    "    \"Expected Sarsa\": ExpectedSarsaAgent\n",
    "}\n",
    "env = cliffworld_env.Environment\n",
    "all_reward_sums = {} # Contains sum of rewards during episode\n",
    "all_state_visits = {} # Contains state visit counts during the last 10 episodes\n",
    "agent_info = {\"num_actions\": 4, \"num_states\": 48, \"epsilon\": 0.1, \"step_size\": 0.5, \"discount\": 1.0}\n",
    "env_info = {}\n",
    "num_runs = 100 # The number of runs\n",
    "num_episodes = 200 # The number of episodes in each run\n",
    "\n",
    "for algorithm in [\"Q-learning\", \"Expected Sarsa\"]:\n",
    "    all_reward_sums[algorithm] = []\n",
    "    all_state_visits[algorithm] = []\n",
    "    for run in tqdm(range(num_runs)):\n",
    "        agent_info[\"seed\"] = run\n",
    "        rl_glue = RLGlue(env, agents[algorithm])\n",
    "        rl_glue.rl_init(agent_info, env_info)\n",
    "\n",
    "        reward_sums = []\n",
    "        state_visits = np.zeros(48)\n",
    "        for episode in range(num_episodes):\n",
    "            if episode < num_episodes - 10:\n",
    "                # Runs an episode\n",
    "                rl_glue.rl_episode(10000) \n",
    "            else: \n",
    "                # Runs an episode while keeping track of visited states\n",
    "                state, action = rl_glue.rl_start()\n",
    "                state_visits[state] += 1\n",
    "                is_terminal = False\n",
    "                while not is_terminal:\n",
    "                    reward, state, action, is_terminal = rl_glue.rl_step()\n",
    "                    state_visits[state] += 1\n",
    "                \n",
    "            reward_sums.append(rl_glue.rl_return())\n",
    "            \n",
    "        all_reward_sums[algorithm].append(reward_sums)\n",
    "        all_state_visits[algorithm].append(state_visits)\n",
    "\n",
    "# plot results\n",
    "for algorithm in [\"Q-learning\", \"Expected Sarsa\"]:\n",
    "    plt.plot(np.mean(all_reward_sums[algorithm], axis=0), label=algorithm)\n",
    "plt.xlabel(\"Episodes\")\n",
    "plt.ylabel(\"Sum of\\n rewards\\n during\\n episode\",rotation=0, labelpad=40)\n",
    "plt.ylim(-100,0)\n",
    "plt.legend()\n",
    "plt.show()"
   ]
  },
  {
   "cell_type": "markdown",
   "metadata": {
    "deletable": false,
    "editable": false,
    "nbgrader": {
     "cell_type": "markdown",
     "checksum": "f3b4de11b2d4e06f10407aaa78f2cc76",
     "grade": false,
     "grade_id": "cell-960b5d01e8ee581e",
     "locked": true,
     "schema_version": 3,
     "solution": false,
     "task": false
    }
   },
   "source": [
    "To see why these two agents behave differently, let's inspect the states they visit most. Run the cell below to generate plots showing the number of timesteps that the agents spent in each state over the last 10 episodes."
   ]
  },
  {
   "cell_type": "code",
   "execution_count": 17,
   "metadata": {
    "deletable": false,
    "editable": false,
    "nbgrader": {
     "cell_type": "code",
     "checksum": "fa1344355fb2cb8cdeddbaa877831d97",
     "grade": false,
     "grade_id": "cell-f3926cb72105b801",
     "locked": true,
     "schema_version": 3,
     "solution": false,
     "task": false
    }
   },
   "outputs": [
    {
     "data": {
      "image/png": "[encoded data removed]",
      "text/plain": [
       "<Figure size 720x360 with 3 Axes>"
      ]
     },
     "metadata": {
      "needs_background": "light"
     },
     "output_type": "display_data"
    }
   ],
   "source": [
    "# ---------------\n",
    "# Discussion Cell\n",
    "# ---------------\n",
    "\n",
    "for algorithm, position in [(\"Q-learning\", 211), (\"Expected Sarsa\", 212)]:\n",
    "    plt.subplot(position)\n",
    "    average_state_visits = np.array(all_state_visits[algorithm]).mean(axis=0)\n",
    "    grid_state_visits = average_state_visits.reshape((4,12))\n",
    "    grid_state_visits[0,1:-1] = np.nan\n",
    "    plt.pcolormesh(grid_state_visits, edgecolors='gray', linewidth=2)\n",
    "    plt.title(algorithm)\n",
    "    plt.axis('off')\n",
    "    cm = plt.get_cmap()\n",
    "    cm.set_bad('gray')\n",
    "\n",
    "    plt.subplots_adjust(bottom=0.0, right=0.7, top=1.0)\n",
    "    cax = plt.axes([0.85, 0.0, 0.075, 1.])\n",
    "    \n",
    "cbar = plt.colorbar(cax=cax)\n",
    "cbar.ax.set_ylabel(\"Visits during\\n the last 10\\n episodes\", rotation=0, labelpad=70)\n",
    "plt.show()"
   ]
  },
  {
   "cell_type": "markdown",
   "metadata": {
    "deletable": false,
    "editable": false,
    "nbgrader": {
     "cell_type": "markdown",
     "checksum": "bccc989c6bc356014577d3a0f008448e",
     "grade": false,
     "grade_id": "cell-a760261e6f96ab9f",
     "locked": true,
     "schema_version": 3,
     "solution": false,
     "task": false
    }
   },
   "source": [
    "The Q-learning agent learns the optimal policy, one that moves along the cliff and reaches the goal in as few steps as possible. However, since the agent does not follow the optimal policy and uses $\\epsilon$-greedy exploration, it occasionally falls off the cliff. The Expected Sarsa agent takes exploration into account and follows a safer path.\n",
    "\n",
    "\n",
    "Previously we used a fixed step-size of 0.5 for the agents. What happens with other step-sizes? Does this difference in performance persist?\n",
    "\n",
    "In the next experiment we will try 10 different step-sizes from 0.1 to 1.0 and compare the sum of rewards per episode averaged over the first 100 episodes (similar to the interim performance curves in Figure 6.3 of the textbook). Shaded regions show standard errors.\n",
    "\n",
    "This cell takes around 10 minutes to run. The result of this cell will be graded. If you make any changes to your algorithms, you have to run this cell again before submitting the assignment."
   ]
  },
  {
   "cell_type": "code",
   "execution_count": 18,
   "metadata": {
    "deletable": false,
    "editable": false,
    "nbgrader": {
     "cell_type": "code",
     "checksum": "f458141112450c336f6c71e15bcf116e",
     "grade": false,
     "grade_id": "cell-232036ab548ecf06",
     "locked": true,
     "schema_version": 3,
     "solution": false,
     "task": false
    }
   },
   "outputs": [
    {
     "name": "stderr",
     "output_type": "stream",
     "text": [
      "100%|██████████| 600/600 [02:52<00:00,  3.49it/s]\n"
     ]
    },
    {
     "data": {
      "image/png": "[encoded data removed]",
      "text/plain": [
       "<Figure size 720x360 with 1 Axes>"
      ]
     },
     "metadata": {
      "needs_background": "light"
     },
     "output_type": "display_data"
    }
   ],
   "source": [
    "# ---------------\n",
    "# Discussion Cell\n",
    "# ---------------\n",
    "from itertools import product\n",
    "\n",
    "agents = {\n",
    "    \"Q-learning\": QLearningAgent,\n",
    "    \"Expected Sarsa\": ExpectedSarsaAgent\n",
    "}\n",
    "env = cliffworld_env.Environment\n",
    "all_reward_sums = {}\n",
    "step_sizes = np.linspace(0.1,1.0,10)\n",
    "agent_info = {\"num_actions\": 4, \"num_states\": 48, \"epsilon\": 0.1, \"discount\": 1.0}\n",
    "env_info = {}\n",
    "num_runs = 30\n",
    "num_episodes = 100\n",
    "all_reward_sums = {}\n",
    "\n",
    "algorithms = [\"Q-learning\", \"Expected Sarsa\"]\n",
    "cross_product = list(product(algorithms, step_sizes, range(num_runs)))\n",
    "for algorithm, step_size, run in tqdm(cross_product):\n",
    "    if (algorithm, step_size) not in all_reward_sums:\n",
    "        all_reward_sums[(algorithm, step_size)] = []\n",
    "\n",
    "    agent_info[\"step_size\"] = step_size\n",
    "    agent_info[\"seed\"] = run\n",
    "    rl_glue = RLGlue(env, agents[algorithm])\n",
    "    rl_glue.rl_init(agent_info, env_info)\n",
    "\n",
    "    last_episode_total_reward = 0\n",
    "    for episode in range(num_episodes):\n",
    "        rl_glue.rl_episode(0)\n",
    "    all_reward_sums[(algorithm, step_size)].append(rl_glue.rl_return()/num_episodes)\n",
    "        \n",
    "\n",
    "for algorithm in [\"Q-learning\", \"Expected Sarsa\"]:\n",
    "    algorithm_means = np.array([np.mean(all_reward_sums[(algorithm, step_size)]) for step_size in step_sizes])\n",
    "    algorithm_stds = np.array([sem(all_reward_sums[(algorithm, step_size)]) for step_size in step_sizes])\n",
    "    plt.plot(step_sizes, algorithm_means, marker='o', linestyle='solid', label=algorithm)\n",
    "    plt.fill_between(step_sizes, algorithm_means + algorithm_stds, algorithm_means - algorithm_stds, alpha=0.2)\n",
    "\n",
    "plt.legend()\n",
    "plt.xlabel(\"Step-size\")\n",
    "plt.ylabel(\"Sum of\\n rewards\\n per episode\",rotation=0, labelpad=50)\n",
    "plt.xticks(step_sizes)\n",
    "plt.show()"
   ]
  },
  {
   "cell_type": "markdown",
   "metadata": {
    "deletable": false,
    "editable": false,
    "nbgrader": {
     "cell_type": "markdown",
     "checksum": "5ebf1c0f3c14b1400ad9ee008bcf1924",
     "grade": false,
     "grade_id": "cell-73c0cfe2a38255ba",
     "locked": true,
     "schema_version": 3,
     "solution": false,
     "task": false
    }
   },
   "source": [
    "Expected Sarsa shows an advantage over Q-learning in this problem across a wide range of step-sizes.\n",
    "\n",
    "Congratulations! Now you have:\n",
    "\n",
    "- implemented Q-Learning with $\\epsilon$-greedy action selection\n",
    "- implemented Expected Sarsa with $\\epsilon$-greedy action selection\n",
    "- investigated the behavior of these two algorithms on Cliff World"
   ]
  }
 ],
 "metadata": {
  "kernelspec": {
   "display_name": "Python 3",
   "language": "python",
   "name": "python3"
  },
  "language_info": {
   "codemirror_mode": {
    "name": "ipython",
    "version": 3
   },
   "file_extension": ".py",
   "mimetype": "text/x-python",
   "name": "python",
   "nbconvert_exporter": "python",
   "pygments_lexer": "ipython3",
   "version": "3.7.6"
  }
 },
 "nbformat": 4,
 "nbformat_minor": 2
}
